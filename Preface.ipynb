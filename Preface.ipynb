{
 "cells": [
  {
   "attachments": {},
   "cell_type": "markdown",
   "metadata": {},
   "source": [
    "# Preface\n",
    "The purpose of this journal is to record down the way I started to begin my Data Science Journey.<br>\n",
    "As long as I am alive, I will be continue to updating this journal."
   ]
  },
  {
   "attachments": {},
   "cell_type": "markdown",
   "metadata": {},
   "source": [
    "## About Me\n",
    "I am a Actuarial Studies graduate from Asia Pacific University Malaysia.<br>\n",
    "In my degree, I have acquire strong statistical and mathematical skills.\n",
    "<br>\n",
    "<br>\n",
    "After graduating, I have work as a Data Processing Specialist in NielsenIQ Malaysia.\n",
    "<br> This is where I start to get more interested in data field.\n",
    "<br>\n",
    "<br>\n",
    "Now I am an international student at UQ studying Master in Data Science."
   ]
  },
  {
   "cell_type": "markdown",
   "metadata": {},
   "source": []
  }
 ],
 "metadata": {
  "language_info": {
   "name": "python"
  },
  "orig_nbformat": 4
 },
 "nbformat": 4,
 "nbformat_minor": 2
}
